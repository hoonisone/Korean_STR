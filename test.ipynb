{
 "cells": [
  {
   "cell_type": "code",
   "execution_count": 4,
   "metadata": {},
   "outputs": [],
   "source": [
    "import torch.nn as nn\n",
    "import torch\n",
    "\n",
    "\n"
   ]
  },
  {
   "cell_type": "code",
   "execution_count": 9,
   "metadata": {},
   "outputs": [
    {
     "name": "stdout",
     "output_type": "stream",
     "text": [
      "tensor([[[[0.2682, 0.3227, 0.8806],\n",
      "          [0.6192, 0.5916, 0.0872],\n",
      "          [0.2082, 0.1548, 0.7888]],\n",
      "\n",
      "         [[0.7781, 0.1553, 0.0150],\n",
      "          [0.7848, 0.1649, 0.7338],\n",
      "          [0.1417, 0.1180, 0.7996]],\n",
      "\n",
      "         [[0.0143, 0.6998, 0.5669],\n",
      "          [0.5243, 0.9795, 0.7177],\n",
      "          [0.4920, 0.6397, 0.3924]]],\n",
      "\n",
      "\n",
      "        [[[0.1840, 0.1379, 0.0892],\n",
      "          [0.9387, 0.7019, 0.4010],\n",
      "          [0.1377, 0.7668, 0.8821]],\n",
      "\n",
      "         [[0.0891, 0.4909, 0.3899],\n",
      "          [0.1811, 0.5233, 0.9507],\n",
      "          [0.0797, 0.7259, 0.8556]],\n",
      "\n",
      "         [[0.0912, 0.3548, 0.8328],\n",
      "          [0.5813, 0.6496, 0.5291],\n",
      "          [0.0032, 0.3459, 0.5192]]]])\n",
      "tensor([[[[0.5363, 0.0000, 1.7613],\n",
      "          [0.0000, 1.1833, 0.1744],\n",
      "          [0.4164, 0.3095, 1.5775]],\n",
      "\n",
      "         [[1.5562, 0.3107, 0.0000],\n",
      "          [1.5696, 0.3298, 0.0000],\n",
      "          [0.0000, 0.0000, 1.5992]],\n",
      "\n",
      "         [[0.0287, 0.0000, 0.0000],\n",
      "          [0.0000, 1.9590, 0.0000],\n",
      "          [0.0000, 1.2795, 0.0000]]],\n",
      "\n",
      "\n",
      "        [[[0.3681, 0.2757, 0.0000],\n",
      "          [1.8775, 1.4038, 0.0000],\n",
      "          [0.0000, 0.0000, 1.7641]],\n",
      "\n",
      "         [[0.1782, 0.9819, 0.7798],\n",
      "          [0.0000, 1.0466, 0.0000],\n",
      "          [0.1594, 1.4517, 0.0000]],\n",
      "\n",
      "         [[0.0000, 0.0000, 1.6655],\n",
      "          [0.0000, 1.2991, 1.0582],\n",
      "          [0.0000, 0.0000, 0.0000]]]])\n"
     ]
    }
   ],
   "source": [
    "dropout = nn.Dropout(0.5)\n",
    "x = torch.rand(2, 3, 3, 3)\n",
    "print(x)\n",
    "\n",
    "x = dropout(x)\n",
    "print(x)"
   ]
  },
  {
   "cell_type": "code",
   "execution_count": 13,
   "metadata": {},
   "outputs": [
    {
     "data": {
      "text/plain": [
       "torch.Size([3, 1, 2])"
      ]
     },
     "execution_count": 13,
     "metadata": {},
     "output_type": "execute_result"
    }
   ],
   "source": [
    "x = torch.rand(1, 2, 3)\n",
    "x.permute(2, 0, 1).shape"
   ]
  },
  {
   "cell_type": "code",
   "execution_count": 33,
   "metadata": {},
   "outputs": [
    {
     "ename": "TypeError",
     "evalue": "flatten() received an invalid combination of arguments - got (int, int, int), but expected one of:\n * (int start_dim, int end_dim, name out_dim)\n      didn't match because some of the arguments have invalid types: (int, int, !int!)\n * (int start_dim, int end_dim)\n * (name start_dim, name end_dim, name out_dim)\n      didn't match because some of the arguments have invalid types: (!int!, !int!, !int!)\n * (tuple of names dims, name out_dim)\n",
     "output_type": "error",
     "traceback": [
      "\u001b[0;31m---------------------------------------------------------------------------\u001b[0m",
      "\u001b[0;31mTypeError\u001b[0m                                 Traceback (most recent call last)",
      "Cell \u001b[0;32mIn[33], line 2\u001b[0m\n\u001b[1;32m      1\u001b[0m x \u001b[38;5;241m=\u001b[39m torch\u001b[38;5;241m.\u001b[39mrand(\u001b[38;5;241m2\u001b[39m, \u001b[38;5;241m3\u001b[39m, \u001b[38;5;241m4\u001b[39m, \u001b[38;5;241m5\u001b[39m)\n\u001b[0;32m----> 2\u001b[0m \u001b[43mx\u001b[49m\u001b[38;5;241;43m.\u001b[39;49m\u001b[43mflatten\u001b[49m\u001b[43m(\u001b[49m\u001b[38;5;241;43m0\u001b[39;49m\u001b[43m,\u001b[49m\u001b[43m \u001b[49m\u001b[38;5;241;43m1\u001b[39;49m\u001b[43m,\u001b[49m\u001b[43m \u001b[49m\u001b[38;5;241;43m2\u001b[39;49m\u001b[43m)\u001b[49m\u001b[38;5;241m.\u001b[39mshape\n",
      "\u001b[0;31mTypeError\u001b[0m: flatten() received an invalid combination of arguments - got (int, int, int), but expected one of:\n * (int start_dim, int end_dim, name out_dim)\n      didn't match because some of the arguments have invalid types: (int, int, !int!)\n * (int start_dim, int end_dim)\n * (name start_dim, name end_dim, name out_dim)\n      didn't match because some of the arguments have invalid types: (!int!, !int!, !int!)\n * (tuple of names dims, name out_dim)\n"
     ]
    }
   ],
   "source": [
    "x = torch.rand(2, 3, 4, 5)\n",
    "x.flatten(0, 1, 2).shape"
   ]
  },
  {
   "cell_type": "code",
   "execution_count": 36,
   "metadata": {},
   "outputs": [
    {
     "data": {
      "text/plain": [
       "torch.int64"
      ]
     },
     "execution_count": 36,
     "metadata": {},
     "output_type": "execute_result"
    }
   ],
   "source": [
    "torch.arange(10, dtype=torch.long).dtype"
   ]
  },
  {
   "cell_type": "code",
   "execution_count": 38,
   "metadata": {},
   "outputs": [
    {
     "data": {
      "text/plain": [
       "tensor([[0, 1, 2, 3, 4, 5, 6, 7, 8, 9],\n",
       "        [0, 1, 2, 3, 4, 5, 6, 7, 8, 9],\n",
       "        [0, 1, 2, 3, 4, 5, 6, 7, 8, 9]])"
      ]
     },
     "execution_count": 38,
     "metadata": {},
     "output_type": "execute_result"
    }
   ],
   "source": [
    "x = torch.arange(10, dtype=torch.long)\n",
    "x.unsqueeze(0).expand(3, -1)"
   ]
  },
  {
   "cell_type": "code",
   "execution_count": 49,
   "metadata": {},
   "outputs": [
    {
     "ename": "RuntimeError",
     "evalue": "mat1 and mat2 must have the same dtype",
     "output_type": "error",
     "traceback": [
      "\u001b[0;31m---------------------------------------------------------------------------\u001b[0m",
      "\u001b[0;31mRuntimeError\u001b[0m                              Traceback (most recent call last)",
      "Cell \u001b[0;32mIn[49], line 3\u001b[0m\n\u001b[1;32m      1\u001b[0m x \u001b[38;5;241m=\u001b[39m torch\u001b[38;5;241m.\u001b[39mrand(\u001b[38;5;241m10\u001b[39m, \u001b[38;5;241m20\u001b[39m, \u001b[38;5;241m3\u001b[39m, dtype\u001b[38;5;241m=\u001b[39mtorch\u001b[38;5;241m.\u001b[39mfloat64)\n\u001b[1;32m      2\u001b[0m model \u001b[38;5;241m=\u001b[39m nn\u001b[38;5;241m.\u001b[39mLinear(\u001b[38;5;241m3\u001b[39m, \u001b[38;5;241m5\u001b[39m)\n\u001b[0;32m----> 3\u001b[0m y \u001b[38;5;241m=\u001b[39m \u001b[43mmodel\u001b[49m\u001b[43m(\u001b[49m\u001b[43mx\u001b[49m\u001b[43m)\u001b[49m\n\u001b[1;32m      4\u001b[0m y\u001b[38;5;241m.\u001b[39mshape\n",
      "File \u001b[0;32m/opt/conda/lib/python3.10/site-packages/torch/nn/modules/module.py:1501\u001b[0m, in \u001b[0;36mModule._call_impl\u001b[0;34m(self, *args, **kwargs)\u001b[0m\n\u001b[1;32m   1496\u001b[0m \u001b[38;5;66;03m# If we don't have any hooks, we want to skip the rest of the logic in\u001b[39;00m\n\u001b[1;32m   1497\u001b[0m \u001b[38;5;66;03m# this function, and just call forward.\u001b[39;00m\n\u001b[1;32m   1498\u001b[0m \u001b[38;5;28;01mif\u001b[39;00m \u001b[38;5;129;01mnot\u001b[39;00m (\u001b[38;5;28mself\u001b[39m\u001b[38;5;241m.\u001b[39m_backward_hooks \u001b[38;5;129;01mor\u001b[39;00m \u001b[38;5;28mself\u001b[39m\u001b[38;5;241m.\u001b[39m_backward_pre_hooks \u001b[38;5;129;01mor\u001b[39;00m \u001b[38;5;28mself\u001b[39m\u001b[38;5;241m.\u001b[39m_forward_hooks \u001b[38;5;129;01mor\u001b[39;00m \u001b[38;5;28mself\u001b[39m\u001b[38;5;241m.\u001b[39m_forward_pre_hooks\n\u001b[1;32m   1499\u001b[0m         \u001b[38;5;129;01mor\u001b[39;00m _global_backward_pre_hooks \u001b[38;5;129;01mor\u001b[39;00m _global_backward_hooks\n\u001b[1;32m   1500\u001b[0m         \u001b[38;5;129;01mor\u001b[39;00m _global_forward_hooks \u001b[38;5;129;01mor\u001b[39;00m _global_forward_pre_hooks):\n\u001b[0;32m-> 1501\u001b[0m     \u001b[38;5;28;01mreturn\u001b[39;00m \u001b[43mforward_call\u001b[49m\u001b[43m(\u001b[49m\u001b[38;5;241;43m*\u001b[39;49m\u001b[43margs\u001b[49m\u001b[43m,\u001b[49m\u001b[43m \u001b[49m\u001b[38;5;241;43m*\u001b[39;49m\u001b[38;5;241;43m*\u001b[39;49m\u001b[43mkwargs\u001b[49m\u001b[43m)\u001b[49m\n\u001b[1;32m   1502\u001b[0m \u001b[38;5;66;03m# Do not call functions when jit is used\u001b[39;00m\n\u001b[1;32m   1503\u001b[0m full_backward_hooks, non_full_backward_hooks \u001b[38;5;241m=\u001b[39m [], []\n",
      "File \u001b[0;32m/opt/conda/lib/python3.10/site-packages/torch/nn/modules/linear.py:114\u001b[0m, in \u001b[0;36mLinear.forward\u001b[0;34m(self, input)\u001b[0m\n\u001b[1;32m    113\u001b[0m \u001b[38;5;28;01mdef\u001b[39;00m \u001b[38;5;21mforward\u001b[39m(\u001b[38;5;28mself\u001b[39m, \u001b[38;5;28minput\u001b[39m: Tensor) \u001b[38;5;241m-\u001b[39m\u001b[38;5;241m>\u001b[39m Tensor:\n\u001b[0;32m--> 114\u001b[0m     \u001b[38;5;28;01mreturn\u001b[39;00m \u001b[43mF\u001b[49m\u001b[38;5;241;43m.\u001b[39;49m\u001b[43mlinear\u001b[49m\u001b[43m(\u001b[49m\u001b[38;5;28;43minput\u001b[39;49m\u001b[43m,\u001b[49m\u001b[43m \u001b[49m\u001b[38;5;28;43mself\u001b[39;49m\u001b[38;5;241;43m.\u001b[39;49m\u001b[43mweight\u001b[49m\u001b[43m,\u001b[49m\u001b[43m \u001b[49m\u001b[38;5;28;43mself\u001b[39;49m\u001b[38;5;241;43m.\u001b[39;49m\u001b[43mbias\u001b[49m\u001b[43m)\u001b[49m\n",
      "\u001b[0;31mRuntimeError\u001b[0m: mat1 and mat2 must have the same dtype"
     ]
    }
   ],
   "source": [
    "x = torch.rand(10, 20, 3, dtype=torch.float64)\n",
    "model = nn.Linear(3, 5)\n",
    "y = model(x)\n",
    "y.shape"
   ]
  },
  {
   "cell_type": "code",
   "execution_count": 56,
   "metadata": {},
   "outputs": [
    {
     "name": "stdout",
     "output_type": "stream",
     "text": [
      "torch.int64\n"
     ]
    },
    {
     "data": {
      "text/plain": [
       "tensor([[-0.5663,  0.3739, -0.6358],\n",
       "        [ 0.5998,  0.5944,  0.2021],\n",
       "        [ 0.2157,  0.4980, -1.1422]], grad_fn=<EmbeddingBackward0>)"
      ]
     },
     "execution_count": 56,
     "metadata": {},
     "output_type": "execute_result"
    }
   ],
   "source": [
    "x = torch.tensor([1, 2, 3], dtype=int)\n",
    "em = nn.Embedding(10, 3)\n",
    "print(x.dtype)\n",
    "y = em(x)\n",
    "y"
   ]
  },
  {
   "cell_type": "code",
   "execution_count": 53,
   "metadata": {},
   "outputs": [
    {
     "data": {
      "text/plain": [
       "tensor([[1, 2, 4, 5],\n",
       "        [4, 3, 2, 9]])"
      ]
     },
     "execution_count": 53,
     "metadata": {},
     "output_type": "execute_result"
    }
   ],
   "source": []
  },
  {
   "cell_type": "code",
   "execution_count": 61,
   "metadata": {},
   "outputs": [
    {
     "ename": "RuntimeError",
     "evalue": "The size of tensor a (256) must match the size of tensor b (25) at non-singleton dimension 2",
     "output_type": "error",
     "traceback": [
      "\u001b[0;31m---------------------------------------------------------------------------\u001b[0m",
      "\u001b[0;31mRuntimeError\u001b[0m                              Traceback (most recent call last)",
      "Cell \u001b[0;32mIn[61], line 3\u001b[0m\n\u001b[1;32m      1\u001b[0m x \u001b[38;5;241m=\u001b[39m torch\u001b[38;5;241m.\u001b[39mrand(\u001b[38;5;241m10\u001b[39m, \u001b[38;5;241m512\u001b[39m, \u001b[38;5;241m256\u001b[39m)\n\u001b[1;32m      2\u001b[0m y \u001b[38;5;241m=\u001b[39m torch\u001b[38;5;241m.\u001b[39mrand(\u001b[38;5;241m10\u001b[39m, \u001b[38;5;241m512\u001b[39m, \u001b[38;5;241m25\u001b[39m)\n\u001b[0;32m----> 3\u001b[0m (\u001b[43mx\u001b[49m\u001b[38;5;241;43m+\u001b[39;49m\u001b[43my\u001b[49m)\u001b[38;5;241m.\u001b[39mshape\n",
      "\u001b[0;31mRuntimeError\u001b[0m: The size of tensor a (256) must match the size of tensor b (25) at non-singleton dimension 2"
     ]
    }
   ],
   "source": [
    "x = torch.rand(10, 512, 256)\n",
    "y = torch.rand(10, 512, 25)\n",
    "(x+y).shape"
   ]
  },
  {
   "cell_type": "code",
   "execution_count": 63,
   "metadata": {},
   "outputs": [
    {
     "data": {
      "text/plain": [
       "tensor([[[0., 0., 0.],\n",
       "         [0., 0., 0.]]])"
      ]
     },
     "execution_count": 63,
     "metadata": {},
     "output_type": "execute_result"
    }
   ],
   "source": [
    "x = torch.rand(10, 512, 256)\n",
    "x.new_zeros((1,2,3))"
   ]
  },
  {
   "cell_type": "code",
   "execution_count": 71,
   "metadata": {},
   "outputs": [
    {
     "name": "stdout",
     "output_type": "stream",
     "text": [
      "tensor([[0.0900, 0.2447, 0.6652],\n",
      "        [0.0900, 0.2447, 0.6652]])\n"
     ]
    }
   ],
   "source": [
    "x = torch.tensor([[1, 2, 3], [1, 2, 3]], dtype=torch.float32)\n",
    "y = torch.softmax(x, dim=1)\n",
    "print(y)\n"
   ]
  },
  {
   "cell_type": "code",
   "execution_count": 89,
   "metadata": {},
   "outputs": [],
   "source": [
    "from torch.utils.data import Dataset\n",
    "from PIL import Image\n",
    "from pathlib import Path\n",
    "from typing import Callable, Optional, Union\n",
    "\n",
    "\n",
    "class PPOCRDataset(Dataset):\n",
    "    \"\"\"_summary_\n",
    "        PPOCR에서 사용하는 형식의 레이블 파일을 통해 데이터 셋을 로드하는 torch.Dataset\n",
    "    Args:\n",
    "        datasets (_type_): _description_\n",
    "    \"\"\"\n",
    "    def __init__(self, data_dir:str, file_path:str, transform:Optional[Callable]=None):\n",
    "        self.data_dir = Path(data_dir)\n",
    "        self.samples = PPOCRDataset.load_samples(file_path) # [(img_path, label), ...]\n",
    "        self.num_samples = len(self.samples)\n",
    "        self.transform = transform\n",
    "        \n",
    "    @staticmethod\n",
    "    def load_samples(path):\n",
    "        with open(path, \"r\") as f:\n",
    "            lines = [line.rstrip(\"\\n\").split(\"\\t\") for line in f.readlines()]\n",
    "        return lines\n",
    "    \n",
    "    @staticmethod\n",
    "    def load_image(path):\n",
    "        return Image.open(path).convert(\"RGB\")\n",
    "        \n",
    "    def __len__(self):\n",
    "        return self.num_samples\n",
    "\n",
    "    def __getitem__(self, index):\n",
    "        img_path, label = self.samples[index]\n",
    "        img = PPOCRDataset.load_image(self.data_dir/img_path)\n",
    "        \n",
    "        if self.transform is not None:\n",
    "            img = self.transform(img)\n",
    "        return img, label\n",
    "    \n",
    "dataset = PPOCRDataset(\"/home/datasets/sangmu_str_MH_v2/\", \"/home/datasets/sangmu_str_MH_v2/label.txt\")"
   ]
  },
  {
   "cell_type": "code",
   "execution_count": 88,
   "metadata": {},
   "outputs": [
    {
     "data": {
      "text/plain": [
       "(<PIL.Image.Image image mode=RGB size=2149x317>, 'IBK WM 센터 광주')"
      ]
     },
     "execution_count": 88,
     "metadata": {},
     "output_type": "execute_result"
    }
   ],
   "source": [
    "dataset[0]"
   ]
  },
  {
   "cell_type": "code",
   "execution_count": null,
   "metadata": {},
   "outputs": [],
   "source": []
  }
 ],
 "metadata": {
  "kernelspec": {
   "display_name": "base",
   "language": "python",
   "name": "python3"
  },
  "language_info": {
   "codemirror_mode": {
    "name": "ipython",
    "version": 3
   },
   "file_extension": ".py",
   "mimetype": "text/x-python",
   "name": "python",
   "nbconvert_exporter": "python",
   "pygments_lexer": "ipython3",
   "version": "3.10.11"
  }
 },
 "nbformat": 4,
 "nbformat_minor": 2
}
