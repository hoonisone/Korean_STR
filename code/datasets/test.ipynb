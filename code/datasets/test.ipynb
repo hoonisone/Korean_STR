{
 "cells": [
  {
   "cell_type": "code",
   "execution_count": 2,
   "metadata": {},
   "outputs": [],
   "source": [
    "from torch.utils.data import Dataset\n",
    "from PIL import Image\n",
    "from pathlib import Path\n",
    "from typing import Callable, Optional, Union\n",
    "\n",
    "\n",
    "class PPOCRDataset(Dataset):\n",
    "    \"\"\"_summary_\n",
    "        PPOCR에서 사용하는 형식의 레이블 파일을 통해 데이터 셋을 로드하는 torch.Dataset\n",
    "    Args:\n",
    "        datasets (_type_): _description_\n",
    "    \"\"\"\n",
    "    def __init__(self, data_dir:str, file_path:str, transform:Optional[Callable]=None):\n",
    "        self.data_dir = Path(data_dir)\n",
    "        self.samples = PPOCRDataset.load_samples(file_path) # [(img_path, label), ...]\n",
    "        self.num_samples = len(self.samples)\n",
    "        self.transform = transform\n",
    "        \n",
    "    @staticmethod\n",
    "    def load_samples(path):\n",
    "        with open(path, \"r\") as f:\n",
    "            lines = [line.rstrip(\"\\n\").split(\"\\t\") for line in f.readlines()]\n",
    "        return lines\n",
    "    \n",
    "    @staticmethod\n",
    "    def load_image(path):\n",
    "        return Image.open(path).convert(\"RGB\")\n",
    "        \n",
    "    def __len__(self):\n",
    "        return self.num_samples\n",
    "\n",
    "    def __getitem__(self, index):\n",
    "        img_path, label = self.samples[index]\n",
    "        img = PPOCRDataset.load_image(self.data_dir/img_path)\n",
    "        \n",
    "        if self.transform is not None:\n",
    "            img = self.transform(img)\n",
    "        return img, label\n",
    "    \n",
    "dataset = PPOCRDataset(\"/home/datasets/sangmu_str_MH_v2/\", \"/home/datasets/sangmu_str_MH_v2/label.txt\")"
   ]
  },
  {
   "cell_type": "code",
   "execution_count": 3,
   "metadata": {},
   "outputs": [
    {
     "data": {
      "text/plain": [
       "(<PIL.Image.Image image mode=RGB size=2149x317>, 'IBK WM 센터 광주')"
      ]
     },
     "execution_count": 3,
     "metadata": {},
     "output_type": "execute_result"
    }
   ],
   "source": [
    "dataset[0]"
   ]
  },
  {
   "cell_type": "code",
   "execution_count": 9,
   "metadata": {},
   "outputs": [
    {
     "name": "stderr",
     "output_type": "stream",
     "text": [
      "usage: ipykernel_launcher.py [--help] [--hydra-help] [--version]\n",
      "                             [--cfg {job,hydra,all}] [--resolve]\n",
      "                             [--package PACKAGE] [--run] [--multirun]\n",
      "                             [--shell-completion] [--config-path CONFIG_PATH]\n",
      "                             [--config-name CONFIG_NAME]\n",
      "                             [--config-dir CONFIG_DIR]\n",
      "                             [--experimental-rerun EXPERIMENTAL_RERUN]\n",
      "                             [--info [{all,config,defaults,defaults-tree,plugins,searchpath}]]\n",
      "                             [overrides ...]\n",
      "ipykernel_launcher.py: error: unrecognized arguments: --f=/root/.local/share/jupyter/runtime/kernel-v2-2901589xiIFL7AoAo09.json\n"
     ]
    },
    {
     "ename": "SystemExit",
     "evalue": "2",
     "output_type": "error",
     "traceback": [
      "An exception has occurred, use %tb to see the full traceback.\n",
      "\u001b[0;31mSystemExit\u001b[0m\u001b[0;31m:\u001b[0m 2\n"
     ]
    },
    {
     "name": "stderr",
     "output_type": "stream",
     "text": [
      "/opt/conda/lib/python3.10/site-packages/IPython/core/interactiveshell.py:3513: UserWarning: To exit: use 'exit', 'quit', or Ctrl-D.\n",
      "  warn(\"To exit: use 'exit', 'quit', or Ctrl-D.\", stacklevel=1)\n"
     ]
    }
   ],
   "source": []
  },
  {
   "cell_type": "code",
   "execution_count": null,
   "metadata": {},
   "outputs": [],
   "source": []
  }
 ],
 "metadata": {
  "kernelspec": {
   "display_name": "base",
   "language": "python",
   "name": "python3"
  },
  "language_info": {
   "codemirror_mode": {
    "name": "ipython",
    "version": 3
   },
   "file_extension": ".py",
   "mimetype": "text/x-python",
   "name": "python",
   "nbconvert_exporter": "python",
   "pygments_lexer": "ipython3",
   "version": "3.10.11"
  }
 },
 "nbformat": 4,
 "nbformat_minor": 2
}
